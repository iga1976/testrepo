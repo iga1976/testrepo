{
 "cells": [
  {
   "cell_type": "markdown",
   "id": "7c019940-275f-4717-8159-9598cd349af7",
   "metadata": {},
   "source": [
    "# Data Science Tools and Ecosystem"
   ]
  },
  {
   "cell_type": "markdown",
   "id": "fe5ed037-71e0-4067-abec-8f9996b71751",
   "metadata": {},
   "source": [
    "In this notebook, Data Science Tools and Ecosystem are summarized."
   ]
  },
  {
   "cell_type": "markdown",
   "id": "699a8b7d-0672-48b1-97df-9178a7236a11",
   "metadata": {},
   "source": [
    "__Objectives:__\n",
    "\n",
    "- Python\n",
    "- R\n",
    "- SQL\n",
    "- Java, Scala, and Julia\n",
    "- JavaScript and TypeScript ript"
   ]
  },
  {
   "cell_type": "markdown",
   "id": "7ab8a248-f03c-454d-8b59-56b994f2f89f",
   "metadata": {},
   "source": [
    "Some of the popular languages that Data Scientists use are:\n",
    "1. Python\n",
    "2. R\n",
    "3. SQL\n",
    "4. Java, Scala, and Julia\n",
    "5. JavaScript and TypeScript"
   ]
  },
  {
   "cell_type": "markdown",
   "id": "efcf1956-82bc-4a32-84fc-897eb0f7595d",
   "metadata": {},
   "source": [
    "Some of the commonly used libraries used by Data Scientists include:\n",
    "1. NumPy\n",
    "2. Pandas\n",
    "3. Matplotlib\n",
    "5. Scikit-Learn (or sklearn)\n",
    "6. SciPy"
   ]
  },
  {
   "cell_type": "markdown",
   "id": "c6f41b95-ee1c-4608-8e61-8b7253c02aa4",
   "metadata": {},
   "source": [
    "|Data Science Tools|\n",
    "|------------------|\n",
    "|Jupyter Notebook|\n",
    "|JupyterLab|\n",
    "|RStudio|\n",
    "|Microsoft Visual Code|\n",
    "|PyCharm|\n",
    "|Weka|\n",
    "|Scrapy|\n",
    "|Pandas|\n",
    " "
   ]
  },
  {
   "cell_type": "markdown",
   "id": "b55ed65a-2901-4867-bf6e-716a5fa2d644",
   "metadata": {},
   "source": [
    "### Below are a few examples of evaluating arithmetic expressions in Python:"
   ]
  },
  {
   "cell_type": "code",
   "execution_count": 5,
   "id": "e7d623c1-4a30-4b06-a0cb-aad184a123a7",
   "metadata": {},
   "outputs": [
    {
     "data": {
      "text/plain": [
       "17"
      ]
     },
     "execution_count": 5,
     "metadata": {},
     "output_type": "execute_result"
    }
   ],
   "source": [
    "# This a simple arithmetic expression to mutiply then add integers\n",
    "(3*4)+5"
   ]
  },
  {
   "cell_type": "code",
   "execution_count": 8,
   "id": "a9a975d9-50ce-42d1-9aa3-f40f35956a32",
   "metadata": {},
   "outputs": [
    {
     "data": {
      "text/plain": [
       "3.3333333333333335"
      ]
     },
     "execution_count": 8,
     "metadata": {},
     "output_type": "execute_result"
    }
   ],
   "source": [
    "# This will convert 200 minutes to hours by diving by 60\n",
    "200/60"
   ]
  },
  {
   "cell_type": "markdown",
   "id": "d68e9018-c592-4e57-b5ab-43a004b86770",
   "metadata": {},
   "source": [
    "## Author\n",
    "IONESCU Grigore-Antonius"
   ]
  },
  {
   "cell_type": "code",
   "execution_count": null,
   "id": "9af49be4-4ef4-4417-bef8-9f3c52fcd372",
   "metadata": {},
   "outputs": [],
   "source": []
  }
 ],
 "metadata": {
  "kernelspec": {
   "display_name": "Python 3 (ipykernel)",
   "language": "python",
   "name": "python3"
  },
  "language_info": {
   "codemirror_mode": {
    "name": "ipython",
    "version": 3
   },
   "file_extension": ".py",
   "mimetype": "text/x-python",
   "name": "python",
   "nbconvert_exporter": "python",
   "pygments_lexer": "ipython3",
   "version": "3.12.4"
  }
 },
 "nbformat": 4,
 "nbformat_minor": 5
}
